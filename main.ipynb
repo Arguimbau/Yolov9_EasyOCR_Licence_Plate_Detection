{
 "cells": [
  {
   "metadata": {},
   "cell_type": "code",
   "outputs": [],
   "execution_count": null,
   "source": "!python -m pip install --upgrade pip",
   "id": "c774177dbaac844a"
  },
  {
   "metadata": {
    "ExecuteTime": {
     "end_time": "2024-05-20T10:03:50.717420Z",
     "start_time": "2024-05-20T10:03:42.099296Z"
    }
   },
   "cell_type": "code",
   "source": "!pip install -r requirements.txt",
   "id": "d372190ac5818ccc",
   "outputs": [
    {
     "name": "stdout",
     "output_type": "stream",
     "text": [
      "Requirement already satisfied: pip in c:\\users\\user\\github\\yolov9_easyocr_licence_plate_detection\\.venv\\lib\\site-packages (24.0)"
     ]
    },
    {
     "name": "stderr",
     "output_type": "stream",
     "text": [
      "WARNING: Ignoring invalid distribution -pencv-python-headless (c:\\users\\user\\github\\yolov9_easyocr_licence_plate_detection\\.venv\\lib\\site-packages)\n",
      "WARNING: Ignoring invalid distribution -pencv-python-headless (c:\\users\\user\\github\\yolov9_easyocr_licence_plate_detection\\.venv\\lib\\site-packages)\n"
     ]
    },
    {
     "name": "stdout",
     "output_type": "stream",
     "text": [
      "\n",
      "Requirement already satisfied: easyocr in c:\\users\\user\\github\\yolov9_easyocr_licence_plate_detection\\.venv\\lib\\site-packages (1.7.1)\n",
      "Requirement already satisfied: torch in c:\\users\\user\\github\\yolov9_easyocr_licence_plate_detection\\.venv\\lib\\site-packages (from easyocr) (2.3.0)\n",
      "Requirement already satisfied: torchvision>=0.5 in c:\\users\\user\\github\\yolov9_easyocr_licence_plate_detection\\.venv\\lib\\site-packages (from easyocr) (0.18.0)\n",
      "Requirement already satisfied: opencv-python-headless in c:\\users\\user\\github\\yolov9_easyocr_licence_plate_detection\\.venv\\lib\\site-packages (from easyocr) (4.9.0.80)\n",
      "Requirement already satisfied: scipy in c:\\users\\user\\github\\yolov9_easyocr_licence_plate_detection\\.venv\\lib\\site-packages (from easyocr) (1.13.0)\n",
      "Requirement already satisfied: numpy in c:\\users\\user\\github\\yolov9_easyocr_licence_plate_detection\\.venv\\lib\\site-packages (from easyocr) (1.26.4)\n",
      "Requirement already satisfied: Pillow in c:\\users\\user\\github\\yolov9_easyocr_licence_plate_detection\\.venv\\lib\\site-packages (from easyocr) (10.3.0)\n",
      "Requirement already satisfied: scikit-image in c:\\users\\user\\github\\yolov9_easyocr_licence_plate_detection\\.venv\\lib\\site-packages (from easyocr) (0.23.2)\n",
      "Requirement already satisfied: python-bidi in c:\\users\\user\\github\\yolov9_easyocr_licence_plate_detection\\.venv\\lib\\site-packages (from easyocr) (0.4.2)\n",
      "Requirement already satisfied: PyYAML in c:\\users\\user\\github\\yolov9_easyocr_licence_plate_detection\\.venv\\lib\\site-packages (from easyocr) (6.0.1)\n",
      "Requirement already satisfied: Shapely in c:\\users\\user\\github\\yolov9_easyocr_licence_plate_detection\\.venv\\lib\\site-packages (from easyocr) (2.0.4)\n",
      "Requirement already satisfied: pyclipper in c:\\users\\user\\github\\yolov9_easyocr_licence_plate_detection\\.venv\\lib\\site-packages (from easyocr) (1.3.0.post5)\n",
      "Requirement already satisfied: ninja in c:\\users\\user\\github\\yolov9_easyocr_licence_plate_detection\\.venv\\lib\\site-packages (from easyocr) (1.11.1.1)\n",
      "Requirement already satisfied: filelock in c:\\users\\user\\github\\yolov9_easyocr_licence_plate_detection\\.venv\\lib\\site-packages (from torch->easyocr) (3.14.0)\n",
      "Requirement already satisfied: typing-extensions>=4.8.0 in c:\\users\\user\\github\\yolov9_easyocr_licence_plate_detection\\.venv\\lib\\site-packages (from torch->easyocr) (4.11.0)\n",
      "Requirement already satisfied: sympy in c:\\users\\user\\github\\yolov9_easyocr_licence_plate_detection\\.venv\\lib\\site-packages (from torch->easyocr) (1.12)\n",
      "Requirement already satisfied: networkx in c:\\users\\user\\github\\yolov9_easyocr_licence_plate_detection\\.venv\\lib\\site-packages (from torch->easyocr) (3.3)\n",
      "Requirement already satisfied: jinja2 in c:\\users\\user\\github\\yolov9_easyocr_licence_plate_detection\\.venv\\lib\\site-packages (from torch->easyocr) (3.1.4)\n",
      "Requirement already satisfied: fsspec in c:\\users\\user\\github\\yolov9_easyocr_licence_plate_detection\\.venv\\lib\\site-packages (from torch->easyocr) (2024.5.0)\n",
      "Requirement already satisfied: mkl<=2021.4.0,>=2021.1.1 in c:\\users\\user\\github\\yolov9_easyocr_licence_plate_detection\\.venv\\lib\\site-packages (from torch->easyocr) (2021.4.0)\n",
      "Requirement already satisfied: six in c:\\users\\user\\github\\yolov9_easyocr_licence_plate_detection\\.venv\\lib\\site-packages (from python-bidi->easyocr) (1.16.0)\n",
      "Requirement already satisfied: imageio>=2.33 in c:\\users\\user\\github\\yolov9_easyocr_licence_plate_detection\\.venv\\lib\\site-packages (from scikit-image->easyocr) (2.34.1)\n",
      "Requirement already satisfied: tifffile>=2022.8.12 in c:\\users\\user\\github\\yolov9_easyocr_licence_plate_detection\\.venv\\lib\\site-packages (from scikit-image->easyocr) (2024.5.10)\n",
      "Requirement already satisfied: packaging>=21 in c:\\users\\user\\github\\yolov9_easyocr_licence_plate_detection\\.venv\\lib\\site-packages (from scikit-image->easyocr) (24.0)\n",
      "Requirement already satisfied: lazy-loader>=0.4 in c:\\users\\user\\github\\yolov9_easyocr_licence_plate_detection\\.venv\\lib\\site-packages (from scikit-image->easyocr) (0.4)\n",
      "Requirement already satisfied: intel-openmp==2021.* in c:\\users\\user\\github\\yolov9_easyocr_licence_plate_detection\\.venv\\lib\\site-packages (from mkl<=2021.4.0,>=2021.1.1->torch->easyocr) (2021.4.0)\n",
      "Requirement already satisfied: tbb==2021.* in c:\\users\\user\\github\\yolov9_easyocr_licence_plate_detection\\.venv\\lib\\site-packages (from mkl<=2021.4.0,>=2021.1.1->torch->easyocr) (2021.12.0)\n",
      "Requirement already satisfied: MarkupSafe>=2.0 in c:\\users\\user\\github\\yolov9_easyocr_licence_plate_detection\\.venv\\lib\\site-packages (from jinja2->torch->easyocr) (2.1.5)\n",
      "Requirement already satisfied: mpmath>=0.19 in c:\\users\\user\\github\\yolov9_easyocr_licence_plate_detection\\.venv\\lib\\site-packages (from sympy->torch->easyocr) (1.3.0)\n"
     ]
    },
    {
     "name": "stderr",
     "output_type": "stream",
     "text": [
      "WARNING: Ignoring invalid distribution -pencv-python-headless (c:\\users\\user\\github\\yolov9_easyocr_licence_plate_detection\\.venv\\lib\\site-packages)\n",
      "WARNING: Ignoring invalid distribution -pencv-python-headless (c:\\users\\user\\github\\yolov9_easyocr_licence_plate_detection\\.venv\\lib\\site-packages)\n"
     ]
    },
    {
     "name": "stdout",
     "output_type": "stream",
     "text": [
      "Requirement already satisfied: yolov9 in c:\\users\\user\\github\\yolov9_easyocr_licence_plate_detection\\.venv\\lib\\site-packages (0.0.1)\n",
      "Requirement already satisfied: yolov5 in c:\\users\\user\\github\\yolov9_easyocr_licence_plate_detection\\.venv\\lib\\site-packages (from yolov9) (7.0.13)\n",
      "Requirement already satisfied: gitpython>=3.1.30 in c:\\users\\user\\github\\yolov9_easyocr_licence_plate_detection\\.venv\\lib\\site-packages (from yolov5->yolov9) (3.1.43)\n",
      "Requirement already satisfied: matplotlib>=3.3 in c:\\users\\user\\github\\yolov9_easyocr_licence_plate_detection\\.venv\\lib\\site-packages (from yolov5->yolov9) (3.9.0)\n",
      "Requirement already satisfied: numpy>=1.18.5 in c:\\users\\user\\github\\yolov9_easyocr_licence_plate_detection\\.venv\\lib\\site-packages (from yolov5->yolov9) (1.26.4)\n",
      "Requirement already satisfied: opencv-python>=4.1.1 in c:\\users\\user\\github\\yolov9_easyocr_licence_plate_detection\\.venv\\lib\\site-packages (from yolov5->yolov9) (4.8.1.78)\n",
      "Requirement already satisfied: Pillow>=7.1.2 in c:\\users\\user\\github\\yolov9_easyocr_licence_plate_detection\\.venv\\lib\\site-packages (from yolov5->yolov9) (10.3.0)\n",
      "Requirement already satisfied: psutil in c:\\users\\user\\github\\yolov9_easyocr_licence_plate_detection\\.venv\\lib\\site-packages (from yolov5->yolov9) (5.9.8)\n",
      "Requirement already satisfied: PyYAML>=5.3.1 in c:\\users\\user\\github\\yolov9_easyocr_licence_plate_detection\\.venv\\lib\\site-packages (from yolov5->yolov9) (6.0.1)\n",
      "Requirement already satisfied: requests>=2.23.0 in c:\\users\\user\\github\\yolov9_easyocr_licence_plate_detection\\.venv\\lib\\site-packages (from yolov5->yolov9) (2.31.0)\n",
      "Requirement already satisfied: scipy>=1.4.1 in c:\\users\\user\\github\\yolov9_easyocr_licence_plate_detection\\.venv\\lib\\site-packages (from yolov5->yolov9) (1.13.0)\n",
      "Requirement already satisfied: thop>=0.1.1 in c:\\users\\user\\github\\yolov9_easyocr_licence_plate_detection\\.venv\\lib\\site-packages (from yolov5->yolov9) (0.1.1.post2209072238)\n",
      "Requirement already satisfied: torch>=1.7.0 in c:\\users\\user\\github\\yolov9_easyocr_licence_plate_detection\\.venv\\lib\\site-packages (from yolov5->yolov9) (2.3.0)\n",
      "Requirement already satisfied: torchvision>=0.8.1 in c:\\users\\user\\github\\yolov9_easyocr_licence_plate_detection\\.venv\\lib\\site-packages (from yolov5->yolov9) (0.18.0)\n",
      "Requirement already satisfied: tqdm>=4.64.0 in c:\\users\\user\\github\\yolov9_easyocr_licence_plate_detection\\.venv\\lib\\site-packages (from yolov5->yolov9) (4.66.4)\n",
      "Requirement already satisfied: ultralytics>=8.0.100 in c:\\users\\user\\github\\yolov9_easyocr_licence_plate_detection\\.venv\\lib\\site-packages (from yolov5->yolov9) (8.2.18)\n",
      "Requirement already satisfied: tensorboard>=2.4.1 in c:\\users\\user\\github\\yolov9_easyocr_licence_plate_detection\\.venv\\lib\\site-packages (from yolov5->yolov9) (2.16.2)\n",
      "Requirement already satisfied: pandas>=1.1.4 in c:\\users\\user\\github\\yolov9_easyocr_licence_plate_detection\\.venv\\lib\\site-packages (from yolov5->yolov9) (2.2.2)\n",
      "Requirement already satisfied: seaborn>=0.11.0 in c:\\users\\user\\github\\yolov9_easyocr_licence_plate_detection\\.venv\\lib\\site-packages (from yolov5->yolov9) (0.13.2)\n",
      "Requirement already satisfied: setuptools>=65.5.1 in c:\\users\\user\\github\\yolov9_easyocr_licence_plate_detection\\.venv\\lib\\site-packages (from yolov5->yolov9) (68.2.0)\n",
      "Requirement already satisfied: fire in c:\\users\\user\\github\\yolov9_easyocr_licence_plate_detection\\.venv\\lib\\site-packages (from yolov5->yolov9) (0.6.0)\n",
      "Requirement already satisfied: boto3>=1.19.1 in c:\\users\\user\\github\\yolov9_easyocr_licence_plate_detection\\.venv\\lib\\site-packages (from yolov5->yolov9) (1.34.108)\n",
      "Requirement already satisfied: sahi>=0.11.10 in c:\\users\\user\\github\\yolov9_easyocr_licence_plate_detection\\.venv\\lib\\site-packages (from yolov5->yolov9) (0.11.16)\n",
      "Requirement already satisfied: huggingface-hub>=0.12.0 in c:\\users\\user\\github\\yolov9_easyocr_licence_plate_detection\\.venv\\lib\\site-packages (from yolov5->yolov9) (0.23.0)\n",
      "Requirement already satisfied: roboflow>=0.2.29 in c:\\users\\user\\github\\yolov9_easyocr_licence_plate_detection\\.venv\\lib\\site-packages (from yolov5->yolov9) (1.1.29)\n",
      "Requirement already satisfied: botocore<1.35.0,>=1.34.108 in c:\\users\\user\\github\\yolov9_easyocr_licence_plate_detection\\.venv\\lib\\site-packages (from boto3>=1.19.1->yolov5->yolov9) (1.34.108)\n",
      "Requirement already satisfied: jmespath<2.0.0,>=0.7.1 in c:\\users\\user\\github\\yolov9_easyocr_licence_plate_detection\\.venv\\lib\\site-packages (from boto3>=1.19.1->yolov5->yolov9) (1.0.1)\n",
      "Requirement already satisfied: s3transfer<0.11.0,>=0.10.0 in c:\\users\\user\\github\\yolov9_easyocr_licence_plate_detection\\.venv\\lib\\site-packages (from boto3>=1.19.1->yolov5->yolov9) (0.10.1)\n",
      "Requirement already satisfied: gitdb<5,>=4.0.1 in c:\\users\\user\\github\\yolov9_easyocr_licence_plate_detection\\.venv\\lib\\site-packages (from gitpython>=3.1.30->yolov5->yolov9) (4.0.11)\n",
      "Requirement already satisfied: filelock in c:\\users\\user\\github\\yolov9_easyocr_licence_plate_detection\\.venv\\lib\\site-packages (from huggingface-hub>=0.12.0->yolov5->yolov9) (3.14.0)\n",
      "Requirement already satisfied: fsspec>=2023.5.0 in c:\\users\\user\\github\\yolov9_easyocr_licence_plate_detection\\.venv\\lib\\site-packages (from huggingface-hub>=0.12.0->yolov5->yolov9) (2024.5.0)\n",
      "Requirement already satisfied: packaging>=20.9 in c:\\users\\user\\github\\yolov9_easyocr_licence_plate_detection\\.venv\\lib\\site-packages (from huggingface-hub>=0.12.0->yolov5->yolov9) (24.0)\n",
      "Requirement already satisfied: typing-extensions>=3.7.4.3 in c:\\users\\user\\github\\yolov9_easyocr_licence_plate_detection\\.venv\\lib\\site-packages (from huggingface-hub>=0.12.0->yolov5->yolov9) (4.11.0)\n",
      "Requirement already satisfied: contourpy>=1.0.1 in c:\\users\\user\\github\\yolov9_easyocr_licence_plate_detection\\.venv\\lib\\site-packages (from matplotlib>=3.3->yolov5->yolov9) (1.2.1)\n",
      "Requirement already satisfied: cycler>=0.10 in c:\\users\\user\\github\\yolov9_easyocr_licence_plate_detection\\.venv\\lib\\site-packages (from matplotlib>=3.3->yolov5->yolov9) (0.10.0)\n",
      "Requirement already satisfied: fonttools>=4.22.0 in c:\\users\\user\\github\\yolov9_easyocr_licence_plate_detection\\.venv\\lib\\site-packages (from matplotlib>=3.3->yolov5->yolov9) (4.51.0)\n",
      "Requirement already satisfied: kiwisolver>=1.3.1 in c:\\users\\user\\github\\yolov9_easyocr_licence_plate_detection\\.venv\\lib\\site-packages (from matplotlib>=3.3->yolov5->yolov9) (1.4.5)\n",
      "Requirement already satisfied: pyparsing>=2.3.1 in c:\\users\\user\\github\\yolov9_easyocr_licence_plate_detection\\.venv\\lib\\site-packages (from matplotlib>=3.3->yolov5->yolov9) (3.1.2)\n",
      "Requirement already satisfied: python-dateutil>=2.7 in c:\\users\\user\\github\\yolov9_easyocr_licence_plate_detection\\.venv\\lib\\site-packages (from matplotlib>=3.3->yolov5->yolov9) (2.9.0.post0)\n",
      "Requirement already satisfied: pytz>=2020.1 in c:\\users\\user\\github\\yolov9_easyocr_licence_plate_detection\\.venv\\lib\\site-packages (from pandas>=1.1.4->yolov5->yolov9) (2024.1)\n",
      "Requirement already satisfied: tzdata>=2022.7 in c:\\users\\user\\github\\yolov9_easyocr_licence_plate_detection\\.venv\\lib\\site-packages (from pandas>=1.1.4->yolov5->yolov9) (2024.1)\n",
      "Requirement already satisfied: charset-normalizer<4,>=2 in c:\\users\\user\\github\\yolov9_easyocr_licence_plate_detection\\.venv\\lib\\site-packages (from requests>=2.23.0->yolov5->yolov9) (3.3.2)\n",
      "Requirement already satisfied: idna<4,>=2.5 in c:\\users\\user\\github\\yolov9_easyocr_licence_plate_detection\\.venv\\lib\\site-packages (from requests>=2.23.0->yolov5->yolov9) (2.10)\n",
      "Requirement already satisfied: urllib3<3,>=1.21.1 in c:\\users\\user\\github\\yolov9_easyocr_licence_plate_detection\\.venv\\lib\\site-packages (from requests>=2.23.0->yolov5->yolov9) (2.2.1)\n",
      "Requirement already satisfied: certifi>=2017.4.17 in c:\\users\\user\\github\\yolov9_easyocr_licence_plate_detection\\.venv\\lib\\site-packages (from requests>=2.23.0->yolov5->yolov9) (2023.7.22)\n",
      "Requirement already satisfied: chardet==4.0.0 in c:\\users\\user\\github\\yolov9_easyocr_licence_plate_detection\\.venv\\lib\\site-packages (from roboflow>=0.2.29->yolov5->yolov9) (4.0.0)\n",
      "Collecting opencv-python-headless==4.8.0.74 (from roboflow>=0.2.29->yolov5->yolov9)\n",
      "  Using cached opencv_python_headless-4.8.0.74-cp37-abi3-win_amd64.whl.metadata (19 kB)\n",
      "Requirement already satisfied: python-dotenv in c:\\users\\user\\github\\yolov9_easyocr_licence_plate_detection\\.venv\\lib\\site-packages (from roboflow>=0.2.29->yolov5->yolov9) (1.0.1)\n",
      "Requirement already satisfied: six in c:\\users\\user\\github\\yolov9_easyocr_licence_plate_detection\\.venv\\lib\\site-packages (from roboflow>=0.2.29->yolov5->yolov9) (1.16.0)\n",
      "Requirement already satisfied: requests-toolbelt in c:\\users\\user\\github\\yolov9_easyocr_licence_plate_detection\\.venv\\lib\\site-packages (from roboflow>=0.2.29->yolov5->yolov9) (1.0.0)\n",
      "Requirement already satisfied: python-magic in c:\\users\\user\\github\\yolov9_easyocr_licence_plate_detection\\.venv\\lib\\site-packages (from roboflow>=0.2.29->yolov5->yolov9) (0.4.27)\n",
      "Requirement already satisfied: shapely>=1.8.0 in c:\\users\\user\\github\\yolov9_easyocr_licence_plate_detection\\.venv\\lib\\site-packages (from sahi>=0.11.10->yolov5->yolov9) (2.0.4)\n",
      "Requirement already satisfied: pybboxes==0.1.6 in c:\\users\\user\\github\\yolov9_easyocr_licence_plate_detection\\.venv\\lib\\site-packages (from sahi>=0.11.10->yolov5->yolov9) (0.1.6)\n",
      "Requirement already satisfied: terminaltables in c:\\users\\user\\github\\yolov9_easyocr_licence_plate_detection\\.venv\\lib\\site-packages (from sahi>=0.11.10->yolov5->yolov9) (3.1.10)\n",
      "Requirement already satisfied: click in c:\\users\\user\\github\\yolov9_easyocr_licence_plate_detection\\.venv\\lib\\site-packages (from sahi>=0.11.10->yolov5->yolov9) (8.1.7)\n",
      "Requirement already satisfied: absl-py>=0.4 in c:\\users\\user\\github\\yolov9_easyocr_licence_plate_detection\\.venv\\lib\\site-packages (from tensorboard>=2.4.1->yolov5->yolov9) (2.1.0)\n",
      "Requirement already satisfied: grpcio>=1.48.2 in c:\\users\\user\\github\\yolov9_easyocr_licence_plate_detection\\.venv\\lib\\site-packages (from tensorboard>=2.4.1->yolov5->yolov9) (1.63.0)\n",
      "Requirement already satisfied: markdown>=2.6.8 in c:\\users\\user\\github\\yolov9_easyocr_licence_plate_detection\\.venv\\lib\\site-packages (from tensorboard>=2.4.1->yolov5->yolov9) (3.6)\n",
      "Requirement already satisfied: protobuf!=4.24.0,>=3.19.6 in c:\\users\\user\\github\\yolov9_easyocr_licence_plate_detection\\.venv\\lib\\site-packages (from tensorboard>=2.4.1->yolov5->yolov9) (5.26.1)\n",
      "Requirement already satisfied: tensorboard-data-server<0.8.0,>=0.7.0 in c:\\users\\user\\github\\yolov9_easyocr_licence_plate_detection\\.venv\\lib\\site-packages (from tensorboard>=2.4.1->yolov5->yolov9) (0.7.2)\n",
      "Requirement already satisfied: werkzeug>=1.0.1 in c:\\users\\user\\github\\yolov9_easyocr_licence_plate_detection\\.venv\\lib\\site-packages (from tensorboard>=2.4.1->yolov5->yolov9) (3.0.3)\n",
      "Requirement already satisfied: sympy in c:\\users\\user\\github\\yolov9_easyocr_licence_plate_detection\\.venv\\lib\\site-packages (from torch>=1.7.0->yolov5->yolov9) (1.12)\n",
      "Requirement already satisfied: networkx in c:\\users\\user\\github\\yolov9_easyocr_licence_plate_detection\\.venv\\lib\\site-packages (from torch>=1.7.0->yolov5->yolov9) (3.3)\n",
      "Requirement already satisfied: jinja2 in c:\\users\\user\\github\\yolov9_easyocr_licence_plate_detection\\.venv\\lib\\site-packages (from torch>=1.7.0->yolov5->yolov9) (3.1.4)\n",
      "Requirement already satisfied: mkl<=2021.4.0,>=2021.1.1 in c:\\users\\user\\github\\yolov9_easyocr_licence_plate_detection\\.venv\\lib\\site-packages (from torch>=1.7.0->yolov5->yolov9) (2021.4.0)\n",
      "Requirement already satisfied: colorama in c:\\users\\user\\github\\yolov9_easyocr_licence_plate_detection\\.venv\\lib\\site-packages (from tqdm>=4.64.0->yolov5->yolov9) (0.4.6)\n",
      "Requirement already satisfied: py-cpuinfo in c:\\users\\user\\github\\yolov9_easyocr_licence_plate_detection\\.venv\\lib\\site-packages (from ultralytics>=8.0.100->yolov5->yolov9) (9.0.0)\n",
      "Requirement already satisfied: termcolor in c:\\users\\user\\github\\yolov9_easyocr_licence_plate_detection\\.venv\\lib\\site-packages (from fire->yolov5->yolov9) (2.4.0)\n",
      "Requirement already satisfied: smmap<6,>=3.0.1 in c:\\users\\user\\github\\yolov9_easyocr_licence_plate_detection\\.venv\\lib\\site-packages (from gitdb<5,>=4.0.1->gitpython>=3.1.30->yolov5->yolov9) (5.0.1)\n",
      "Requirement already satisfied: intel-openmp==2021.* in c:\\users\\user\\github\\yolov9_easyocr_licence_plate_detection\\.venv\\lib\\site-packages (from mkl<=2021.4.0,>=2021.1.1->torch>=1.7.0->yolov5->yolov9) (2021.4.0)\n",
      "Requirement already satisfied: tbb==2021.* in c:\\users\\user\\github\\yolov9_easyocr_licence_plate_detection\\.venv\\lib\\site-packages (from mkl<=2021.4.0,>=2021.1.1->torch>=1.7.0->yolov5->yolov9) (2021.12.0)\n",
      "Requirement already satisfied: MarkupSafe>=2.1.1 in c:\\users\\user\\github\\yolov9_easyocr_licence_plate_detection\\.venv\\lib\\site-packages (from werkzeug>=1.0.1->tensorboard>=2.4.1->yolov5->yolov9) (2.1.5)\n",
      "Requirement already satisfied: mpmath>=0.19 in c:\\users\\user\\github\\yolov9_easyocr_licence_plate_detection\\.venv\\lib\\site-packages (from sympy->torch>=1.7.0->yolov5->yolov9) (1.3.0)\n",
      "Using cached opencv_python_headless-4.8.0.74-cp37-abi3-win_amd64.whl (38.0 MB)\n",
      "Installing collected packages: opencv-python-headless\n",
      "  Attempting uninstall: opencv-python-headless\n",
      "    Found existing installation: opencv-python-headless 4.9.0.80\n",
      "    Uninstalling opencv-python-headless-4.9.0.80:\n",
      "      Successfully uninstalled opencv-python-headless-4.9.0.80\n",
      "Successfully installed opencv-python-headless-4.8.0.74\n"
     ]
    },
    {
     "name": "stderr",
     "output_type": "stream",
     "text": [
      "WARNING: Ignoring invalid distribution -pencv-python-headless (c:\\users\\user\\github\\yolov9_easyocr_licence_plate_detection\\.venv\\lib\\site-packages)\n",
      "WARNING: Ignoring invalid distribution -pencv-python-headless (c:\\users\\user\\github\\yolov9_easyocr_licence_plate_detection\\.venv\\lib\\site-packages)\n",
      "ERROR: pip's dependency resolver does not currently take into account all the packages that are installed. This behaviour is the source of the following dependency conflicts.\n",
      "albumentations 1.4.7 requires opencv-python-headless>=4.9.0, but you have opencv-python-headless 4.8.0.74 which is incompatible.\n"
     ]
    },
    {
     "name": "stdout",
     "output_type": "stream",
     "text": [
      "Requirement already satisfied: gitpython in c:\\users\\user\\github\\yolov9_easyocr_licence_plate_detection\\.venv\\lib\\site-packages (from -r requirements.txt (line 5)) (3.1.43)\n",
      "Requirement already satisfied: ipython in c:\\users\\user\\github\\yolov9_easyocr_licence_plate_detection\\.venv\\lib\\site-packages (from -r requirements.txt (line 6)) (8.24.0)\n",
      "Requirement already satisfied: matplotlib>=3.2.2 in c:\\users\\user\\github\\yolov9_easyocr_licence_plate_detection\\.venv\\lib\\site-packages (from -r requirements.txt (line 7)) (3.9.0)\n",
      "Requirement already satisfied: numpy>=1.18.5 in c:\\users\\user\\github\\yolov9_easyocr_licence_plate_detection\\.venv\\lib\\site-packages (from -r requirements.txt (line 8)) (1.26.4)\n",
      "Requirement already satisfied: opencv-python>=4.1.1 in c:\\users\\user\\github\\yolov9_easyocr_licence_plate_detection\\.venv\\lib\\site-packages (from -r requirements.txt (line 9)) (4.8.1.78)\n",
      "Requirement already satisfied: Pillow>=7.1.2 in c:\\users\\user\\github\\yolov9_easyocr_licence_plate_detection\\.venv\\lib\\site-packages (from -r requirements.txt (line 10)) (10.3.0)\n",
      "Requirement already satisfied: psutil in c:\\users\\user\\github\\yolov9_easyocr_licence_plate_detection\\.venv\\lib\\site-packages (from -r requirements.txt (line 11)) (5.9.8)\n",
      "Requirement already satisfied: PyYAML>=5.3.1 in c:\\users\\user\\github\\yolov9_easyocr_licence_plate_detection\\.venv\\lib\\site-packages (from -r requirements.txt (line 12)) (6.0.1)\n",
      "Requirement already satisfied: requests>=2.23.0 in c:\\users\\user\\github\\yolov9_easyocr_licence_plate_detection\\.venv\\lib\\site-packages (from -r requirements.txt (line 13)) (2.31.0)\n",
      "Requirement already satisfied: scipy>=1.4.1 in c:\\users\\user\\github\\yolov9_easyocr_licence_plate_detection\\.venv\\lib\\site-packages (from -r requirements.txt (line 14)) (1.13.0)\n",
      "Requirement already satisfied: thop>=0.1.1 in c:\\users\\user\\github\\yolov9_easyocr_licence_plate_detection\\.venv\\lib\\site-packages (from -r requirements.txt (line 15)) (0.1.1.post2209072238)\n",
      "Requirement already satisfied: torch>=1.7.0 in c:\\users\\user\\github\\yolov9_easyocr_licence_plate_detection\\.venv\\lib\\site-packages (from -r requirements.txt (line 16)) (2.3.0)\n",
      "Requirement already satisfied: torchvision>=0.8.1 in c:\\users\\user\\github\\yolov9_easyocr_licence_plate_detection\\.venv\\lib\\site-packages (from -r requirements.txt (line 17)) (0.18.0)\n",
      "Requirement already satisfied: tqdm>=4.64.0 in c:\\users\\user\\github\\yolov9_easyocr_licence_plate_detection\\.venv\\lib\\site-packages (from -r requirements.txt (line 18)) (4.66.4)\n",
      "Requirement already satisfied: tensorboard>=2.4.1 in c:\\users\\user\\github\\yolov9_easyocr_licence_plate_detection\\.venv\\lib\\site-packages (from -r requirements.txt (line 22)) (2.16.2)\n",
      "Requirement already satisfied: pandas>=1.1.4 in c:\\users\\user\\github\\yolov9_easyocr_licence_plate_detection\\.venv\\lib\\site-packages (from -r requirements.txt (line 27)) (2.2.2)\n",
      "Requirement already satisfied: seaborn>=0.11.0 in c:\\users\\user\\github\\yolov9_easyocr_licence_plate_detection\\.venv\\lib\\site-packages (from -r requirements.txt (line 28)) (0.13.2)\n",
      "Requirement already satisfied: albumentations>=1.0.3 in c:\\users\\user\\github\\yolov9_easyocr_licence_plate_detection\\.venv\\lib\\site-packages (from -r requirements.txt (line 46)) (1.4.7)\n",
      "Requirement already satisfied: pycocotools>=2.0 in c:\\users\\user\\github\\yolov9_easyocr_licence_plate_detection\\.venv\\lib\\site-packages (from -r requirements.txt (line 47)) (2.0.7)\n",
      "Requirement already satisfied: gitdb<5,>=4.0.1 in c:\\users\\user\\github\\yolov9_easyocr_licence_plate_detection\\.venv\\lib\\site-packages (from gitpython->-r requirements.txt (line 5)) (4.0.11)\n",
      "Requirement already satisfied: decorator in c:\\users\\user\\github\\yolov9_easyocr_licence_plate_detection\\.venv\\lib\\site-packages (from ipython->-r requirements.txt (line 6)) (5.1.1)\n",
      "Requirement already satisfied: jedi>=0.16 in c:\\users\\user\\github\\yolov9_easyocr_licence_plate_detection\\.venv\\lib\\site-packages (from ipython->-r requirements.txt (line 6)) (0.19.1)\n",
      "Requirement already satisfied: matplotlib-inline in c:\\users\\user\\github\\yolov9_easyocr_licence_plate_detection\\.venv\\lib\\site-packages (from ipython->-r requirements.txt (line 6)) (0.1.7)\n",
      "Requirement already satisfied: prompt-toolkit<3.1.0,>=3.0.41 in c:\\users\\user\\github\\yolov9_easyocr_licence_plate_detection\\.venv\\lib\\site-packages (from ipython->-r requirements.txt (line 6)) (3.0.43)\n",
      "Requirement already satisfied: pygments>=2.4.0 in c:\\users\\user\\github\\yolov9_easyocr_licence_plate_detection\\.venv\\lib\\site-packages (from ipython->-r requirements.txt (line 6)) (2.18.0)\n",
      "Requirement already satisfied: stack-data in c:\\users\\user\\github\\yolov9_easyocr_licence_plate_detection\\.venv\\lib\\site-packages (from ipython->-r requirements.txt (line 6)) (0.6.3)\n",
      "Requirement already satisfied: traitlets>=5.13.0 in c:\\users\\user\\github\\yolov9_easyocr_licence_plate_detection\\.venv\\lib\\site-packages (from ipython->-r requirements.txt (line 6)) (5.14.3)\n",
      "Requirement already satisfied: exceptiongroup in c:\\users\\user\\github\\yolov9_easyocr_licence_plate_detection\\.venv\\lib\\site-packages (from ipython->-r requirements.txt (line 6)) (1.2.1)\n",
      "Requirement already satisfied: typing-extensions>=4.6 in c:\\users\\user\\github\\yolov9_easyocr_licence_plate_detection\\.venv\\lib\\site-packages (from ipython->-r requirements.txt (line 6)) (4.11.0)\n",
      "Requirement already satisfied: colorama in c:\\users\\user\\github\\yolov9_easyocr_licence_plate_detection\\.venv\\lib\\site-packages (from ipython->-r requirements.txt (line 6)) (0.4.6)\n",
      "Requirement already satisfied: contourpy>=1.0.1 in c:\\users\\user\\github\\yolov9_easyocr_licence_plate_detection\\.venv\\lib\\site-packages (from matplotlib>=3.2.2->-r requirements.txt (line 7)) (1.2.1)\n",
      "Requirement already satisfied: cycler>=0.10 in c:\\users\\user\\github\\yolov9_easyocr_licence_plate_detection\\.venv\\lib\\site-packages (from matplotlib>=3.2.2->-r requirements.txt (line 7)) (0.10.0)\n",
      "Requirement already satisfied: fonttools>=4.22.0 in c:\\users\\user\\github\\yolov9_easyocr_licence_plate_detection\\.venv\\lib\\site-packages (from matplotlib>=3.2.2->-r requirements.txt (line 7)) (4.51.0)\n",
      "Requirement already satisfied: kiwisolver>=1.3.1 in c:\\users\\user\\github\\yolov9_easyocr_licence_plate_detection\\.venv\\lib\\site-packages (from matplotlib>=3.2.2->-r requirements.txt (line 7)) (1.4.5)\n",
      "Requirement already satisfied: packaging>=20.0 in c:\\users\\user\\github\\yolov9_easyocr_licence_plate_detection\\.venv\\lib\\site-packages (from matplotlib>=3.2.2->-r requirements.txt (line 7)) (24.0)\n",
      "Requirement already satisfied: pyparsing>=2.3.1 in c:\\users\\user\\github\\yolov9_easyocr_licence_plate_detection\\.venv\\lib\\site-packages (from matplotlib>=3.2.2->-r requirements.txt (line 7)) (3.1.2)\n",
      "Requirement already satisfied: python-dateutil>=2.7 in c:\\users\\user\\github\\yolov9_easyocr_licence_plate_detection\\.venv\\lib\\site-packages (from matplotlib>=3.2.2->-r requirements.txt (line 7)) (2.9.0.post0)\n",
      "Requirement already satisfied: charset-normalizer<4,>=2 in c:\\users\\user\\github\\yolov9_easyocr_licence_plate_detection\\.venv\\lib\\site-packages (from requests>=2.23.0->-r requirements.txt (line 13)) (3.3.2)\n",
      "Requirement already satisfied: idna<4,>=2.5 in c:\\users\\user\\github\\yolov9_easyocr_licence_plate_detection\\.venv\\lib\\site-packages (from requests>=2.23.0->-r requirements.txt (line 13)) (2.10)\n",
      "Requirement already satisfied: urllib3<3,>=1.21.1 in c:\\users\\user\\github\\yolov9_easyocr_licence_plate_detection\\.venv\\lib\\site-packages (from requests>=2.23.0->-r requirements.txt (line 13)) (2.2.1)\n",
      "Requirement already satisfied: certifi>=2017.4.17 in c:\\users\\user\\github\\yolov9_easyocr_licence_plate_detection\\.venv\\lib\\site-packages (from requests>=2.23.0->-r requirements.txt (line 13)) (2023.7.22)\n",
      "Requirement already satisfied: filelock in c:\\users\\user\\github\\yolov9_easyocr_licence_plate_detection\\.venv\\lib\\site-packages (from torch>=1.7.0->-r requirements.txt (line 16)) (3.14.0)\n",
      "Requirement already satisfied: sympy in c:\\users\\user\\github\\yolov9_easyocr_licence_plate_detection\\.venv\\lib\\site-packages (from torch>=1.7.0->-r requirements.txt (line 16)) (1.12)\n",
      "Requirement already satisfied: networkx in c:\\users\\user\\github\\yolov9_easyocr_licence_plate_detection\\.venv\\lib\\site-packages (from torch>=1.7.0->-r requirements.txt (line 16)) (3.3)\n",
      "Requirement already satisfied: jinja2 in c:\\users\\user\\github\\yolov9_easyocr_licence_plate_detection\\.venv\\lib\\site-packages (from torch>=1.7.0->-r requirements.txt (line 16)) (3.1.4)\n",
      "Requirement already satisfied: fsspec in c:\\users\\user\\github\\yolov9_easyocr_licence_plate_detection\\.venv\\lib\\site-packages (from torch>=1.7.0->-r requirements.txt (line 16)) (2024.5.0)\n",
      "Requirement already satisfied: mkl<=2021.4.0,>=2021.1.1 in c:\\users\\user\\github\\yolov9_easyocr_licence_plate_detection\\.venv\\lib\\site-packages (from torch>=1.7.0->-r requirements.txt (line 16)) (2021.4.0)\n",
      "Requirement already satisfied: absl-py>=0.4 in c:\\users\\user\\github\\yolov9_easyocr_licence_plate_detection\\.venv\\lib\\site-packages (from tensorboard>=2.4.1->-r requirements.txt (line 22)) (2.1.0)\n",
      "Requirement already satisfied: grpcio>=1.48.2 in c:\\users\\user\\github\\yolov9_easyocr_licence_plate_detection\\.venv\\lib\\site-packages (from tensorboard>=2.4.1->-r requirements.txt (line 22)) (1.63.0)\n",
      "Requirement already satisfied: markdown>=2.6.8 in c:\\users\\user\\github\\yolov9_easyocr_licence_plate_detection\\.venv\\lib\\site-packages (from tensorboard>=2.4.1->-r requirements.txt (line 22)) (3.6)\n",
      "Requirement already satisfied: protobuf!=4.24.0,>=3.19.6 in c:\\users\\user\\github\\yolov9_easyocr_licence_plate_detection\\.venv\\lib\\site-packages (from tensorboard>=2.4.1->-r requirements.txt (line 22)) (5.26.1)\n",
      "Requirement already satisfied: setuptools>=41.0.0 in c:\\users\\user\\github\\yolov9_easyocr_licence_plate_detection\\.venv\\lib\\site-packages (from tensorboard>=2.4.1->-r requirements.txt (line 22)) (68.2.0)\n",
      "Requirement already satisfied: six>1.9 in c:\\users\\user\\github\\yolov9_easyocr_licence_plate_detection\\.venv\\lib\\site-packages (from tensorboard>=2.4.1->-r requirements.txt (line 22)) (1.16.0)\n",
      "Requirement already satisfied: tensorboard-data-server<0.8.0,>=0.7.0 in c:\\users\\user\\github\\yolov9_easyocr_licence_plate_detection\\.venv\\lib\\site-packages (from tensorboard>=2.4.1->-r requirements.txt (line 22)) (0.7.2)\n",
      "Requirement already satisfied: werkzeug>=1.0.1 in c:\\users\\user\\github\\yolov9_easyocr_licence_plate_detection\\.venv\\lib\\site-packages (from tensorboard>=2.4.1->-r requirements.txt (line 22)) (3.0.3)\n",
      "Requirement already satisfied: pytz>=2020.1 in c:\\users\\user\\github\\yolov9_easyocr_licence_plate_detection\\.venv\\lib\\site-packages (from pandas>=1.1.4->-r requirements.txt (line 27)) (2024.1)\n",
      "Requirement already satisfied: tzdata>=2022.7 in c:\\users\\user\\github\\yolov9_easyocr_licence_plate_detection\\.venv\\lib\\site-packages (from pandas>=1.1.4->-r requirements.txt (line 27)) (2024.1)\n",
      "Requirement already satisfied: scikit-image>=0.21.0 in c:\\users\\user\\github\\yolov9_easyocr_licence_plate_detection\\.venv\\lib\\site-packages (from albumentations>=1.0.3->-r requirements.txt (line 46)) (0.23.2)\n",
      "Requirement already satisfied: scikit-learn>=1.3.2 in c:\\users\\user\\github\\yolov9_easyocr_licence_plate_detection\\.venv\\lib\\site-packages (from albumentations>=1.0.3->-r requirements.txt (line 46)) (1.4.2)\n",
      "Requirement already satisfied: pydantic>=2.7.0 in c:\\users\\user\\github\\yolov9_easyocr_licence_plate_detection\\.venv\\lib\\site-packages (from albumentations>=1.0.3->-r requirements.txt (line 46)) (2.7.1)\n",
      "Collecting opencv-python-headless>=4.9.0 (from albumentations>=1.0.3->-r requirements.txt (line 46))\n",
      "  Using cached opencv_python_headless-4.9.0.80-cp37-abi3-win_amd64.whl.metadata (20 kB)\n",
      "Requirement already satisfied: smmap<6,>=3.0.1 in c:\\users\\user\\github\\yolov9_easyocr_licence_plate_detection\\.venv\\lib\\site-packages (from gitdb<5,>=4.0.1->gitpython->-r requirements.txt (line 5)) (5.0.1)\n",
      "Requirement already satisfied: parso<0.9.0,>=0.8.3 in c:\\users\\user\\github\\yolov9_easyocr_licence_plate_detection\\.venv\\lib\\site-packages (from jedi>=0.16->ipython->-r requirements.txt (line 6)) (0.8.4)\n",
      "Requirement already satisfied: intel-openmp==2021.* in c:\\users\\user\\github\\yolov9_easyocr_licence_plate_detection\\.venv\\lib\\site-packages (from mkl<=2021.4.0,>=2021.1.1->torch>=1.7.0->-r requirements.txt (line 16)) (2021.4.0)\n",
      "Requirement already satisfied: tbb==2021.* in c:\\users\\user\\github\\yolov9_easyocr_licence_plate_detection\\.venv\\lib\\site-packages (from mkl<=2021.4.0,>=2021.1.1->torch>=1.7.0->-r requirements.txt (line 16)) (2021.12.0)\n",
      "Requirement already satisfied: wcwidth in c:\\users\\user\\github\\yolov9_easyocr_licence_plate_detection\\.venv\\lib\\site-packages (from prompt-toolkit<3.1.0,>=3.0.41->ipython->-r requirements.txt (line 6)) (0.2.13)\n",
      "Requirement already satisfied: annotated-types>=0.4.0 in c:\\users\\user\\github\\yolov9_easyocr_licence_plate_detection\\.venv\\lib\\site-packages (from pydantic>=2.7.0->albumentations>=1.0.3->-r requirements.txt (line 46)) (0.6.0)\n",
      "Requirement already satisfied: pydantic-core==2.18.2 in c:\\users\\user\\github\\yolov9_easyocr_licence_plate_detection\\.venv\\lib\\site-packages (from pydantic>=2.7.0->albumentations>=1.0.3->-r requirements.txt (line 46)) (2.18.2)\n",
      "Requirement already satisfied: imageio>=2.33 in c:\\users\\user\\github\\yolov9_easyocr_licence_plate_detection\\.venv\\lib\\site-packages (from scikit-image>=0.21.0->albumentations>=1.0.3->-r requirements.txt (line 46)) (2.34.1)\n",
      "Requirement already satisfied: tifffile>=2022.8.12 in c:\\users\\user\\github\\yolov9_easyocr_licence_plate_detection\\.venv\\lib\\site-packages (from scikit-image>=0.21.0->albumentations>=1.0.3->-r requirements.txt (line 46)) (2024.5.10)\n",
      "Requirement already satisfied: lazy-loader>=0.4 in c:\\users\\user\\github\\yolov9_easyocr_licence_plate_detection\\.venv\\lib\\site-packages (from scikit-image>=0.21.0->albumentations>=1.0.3->-r requirements.txt (line 46)) (0.4)\n",
      "Requirement already satisfied: joblib>=1.2.0 in c:\\users\\user\\github\\yolov9_easyocr_licence_plate_detection\\.venv\\lib\\site-packages (from scikit-learn>=1.3.2->albumentations>=1.0.3->-r requirements.txt (line 46)) (1.4.2)\n",
      "Requirement already satisfied: threadpoolctl>=2.0.0 in c:\\users\\user\\github\\yolov9_easyocr_licence_plate_detection\\.venv\\lib\\site-packages (from scikit-learn>=1.3.2->albumentations>=1.0.3->-r requirements.txt (line 46)) (3.5.0)\n",
      "Requirement already satisfied: MarkupSafe>=2.1.1 in c:\\users\\user\\github\\yolov9_easyocr_licence_plate_detection\\.venv\\lib\\site-packages (from werkzeug>=1.0.1->tensorboard>=2.4.1->-r requirements.txt (line 22)) (2.1.5)\n",
      "Requirement already satisfied: executing>=1.2.0 in c:\\users\\user\\github\\yolov9_easyocr_licence_plate_detection\\.venv\\lib\\site-packages (from stack-data->ipython->-r requirements.txt (line 6)) (2.0.1)\n",
      "Requirement already satisfied: asttokens>=2.1.0 in c:\\users\\user\\github\\yolov9_easyocr_licence_plate_detection\\.venv\\lib\\site-packages (from stack-data->ipython->-r requirements.txt (line 6)) (2.4.1)\n",
      "Requirement already satisfied: pure-eval in c:\\users\\user\\github\\yolov9_easyocr_licence_plate_detection\\.venv\\lib\\site-packages (from stack-data->ipython->-r requirements.txt (line 6)) (0.2.2)\n",
      "Requirement already satisfied: mpmath>=0.19 in c:\\users\\user\\github\\yolov9_easyocr_licence_plate_detection\\.venv\\lib\\site-packages (from sympy->torch>=1.7.0->-r requirements.txt (line 16)) (1.3.0)\n",
      "Using cached opencv_python_headless-4.9.0.80-cp37-abi3-win_amd64.whl (38.5 MB)\n",
      "Installing collected packages: opencv-python-headless\n",
      "  Attempting uninstall: opencv-python-headless\n",
      "    Found existing installation: opencv-python-headless 4.8.0.74\n",
      "    Uninstalling opencv-python-headless-4.8.0.74:\n",
      "      Successfully uninstalled opencv-python-headless-4.8.0.74\n",
      "Successfully installed opencv-python-headless-4.9.0.80\n"
     ]
    },
    {
     "name": "stderr",
     "output_type": "stream",
     "text": [
      "WARNING: Ignoring invalid distribution -pencv-python-headless (c:\\users\\user\\github\\yolov9_easyocr_licence_plate_detection\\.venv\\lib\\site-packages)\n",
      "WARNING: Ignoring invalid distribution -pencv-python-headless (c:\\users\\user\\github\\yolov9_easyocr_licence_plate_detection\\.venv\\lib\\site-packages)\n",
      "ERROR: pip's dependency resolver does not currently take into account all the packages that are installed. This behaviour is the source of the following dependency conflicts.\n",
      "roboflow 1.1.29 requires opencv-python-headless==4.8.0.74, but you have opencv-python-headless 4.9.0.80 which is incompatible.\n"
     ]
    }
   ],
   "execution_count": 8
  },
  {
   "cell_type": "code",
   "id": "initial_id",
   "metadata": {
    "collapsed": true,
    "ExecuteTime": {
     "end_time": "2024-05-20T10:03:58.971910Z",
     "start_time": "2024-05-20T10:03:58.968907Z"
    }
   },
   "source": [
    "import easyocr\n",
    "import yolov9\n",
    "\n"
   ],
   "outputs": [],
   "execution_count": 9
  },
  {
   "metadata": {
    "ExecuteTime": {
     "end_time": "2024-05-20T11:58:26.413388Z",
     "start_time": "2024-05-20T11:58:26.403378Z"
    }
   },
   "cell_type": "code",
   "source": "image = 'images/sample3.jpg'",
   "id": "e2c2751cbafd7eb4",
   "outputs": [],
   "execution_count": 79
  },
  {
   "metadata": {
    "ExecuteTime": {
     "end_time": "2024-05-20T11:58:26.679485Z",
     "start_time": "2024-05-20T11:58:26.667817Z"
    }
   },
   "cell_type": "code",
   "source": [
    "# Predict with yolov9 with webcam\n",
    "#!python detect.py --weights weights/best.pt --source 0 --device cpu --save-txt --save-crop"
   ],
   "id": "dfad55f0423a7676",
   "outputs": [],
   "execution_count": 80
  },
  {
   "metadata": {
    "ExecuteTime": {
     "end_time": "2024-05-20T12:32:02.330110Z",
     "start_time": "2024-05-20T12:31:54.977783Z"
    }
   },
   "cell_type": "code",
   "source": [
    "# Predict with yolov9 with our weights and save bounding box for later use\n",
    "# Make dynamic jpg loader\n",
    "!python detect.py --weights weights/best.pt --source {image} --device cpu --save-txt --save-crop"
   ],
   "id": "b3c9614cb23e3ec8",
   "outputs": [
    {
     "name": "stdout",
     "output_type": "stream",
     "text": [
      "Model summary (fused): 168 layers, 3005843 parameters, 0 gradients, 8.1 GFLOPs\n",
      "Detected Text: LicensePlate 0.89 With probability: 0.9297978915818049\n",
      "Detected Text: AX 69120 With probability: 0.7552346418877635\n"
     ]
    },
    {
     "name": "stderr",
     "output_type": "stream",
     "text": [
      "\u001B[34m\u001B[1mdetect: \u001B[0mweights=['weights/best.pt'], source=images/sample3.jpg, data=data\\coco128.yaml, imgsz=[640, 640], conf_thres=0.25, iou_thres=0.45, max_det=1000, device=cpu, view_img=False, save_txt=True, save_conf=False, save_crop=True, nosave=False, classes=None, agnostic_nms=False, augment=False, visualize=False, update=False, project=runs\\detect, name=exp, exist_ok=False, line_thickness=3, hide_labels=False, hide_conf=False, half=False, dnn=False, vid_stride=1\n",
      "YOLOv5  a8d5f31 Python-3.10.9 torch-2.3.0+cpu CPU\n",
      "\n",
      "Neither CUDA nor MPS are available - defaulting to CPU. Note: This module is much faster with a GPU.\n",
      "image 1/1 C:\\Users\\User\\github\\Yolov9_EasyOCR_Licence_Plate_Detection\\images\\sample3.jpg: 384x640 1 LicensePlate, 54.0ms\n",
      "Speed: 0.0ms pre-process, 54.0ms inference, 1.0ms NMS per image at shape (1, 3, 640, 640)\n",
      "Results saved to \u001B[1mruns\\detect\\exp2\u001B[0m\n",
      "1 labels saved to runs\\detect\\exp2\\labels\n"
     ]
    }
   ],
   "execution_count": 97
  },
  {
   "metadata": {
    "ExecuteTime": {
     "end_time": "2024-05-20T11:55:30.448726Z",
     "start_time": "2024-05-20T11:55:30.439718Z"
    }
   },
   "cell_type": "code",
   "source": [
    "import os\n",
    "import glob\n",
    "\n",
    "# Get a list of all directories that start with 'exp'\n",
    "exp_dirs = glob.glob('runs/detect/exp*')\n",
    "\n",
    "# Remove the 'runs/detect/exp' part and convert to int\n",
    "exp_nums = [int(dir.split('exp')[-1]) for dir in exp_dirs if dir.split('exp')[-1].isnumeric()]\n",
    "\n",
    "# Get the directory with the highest number\n",
    "latest_exp_dir = 'runs/detect/exp' + str(max(exp_nums))\n",
    "\n",
    "print(latest_exp_dir)  # prints the latest 'exp' directory"
   ],
   "id": "9e0934ab337cc3e7",
   "outputs": [
    {
     "name": "stdout",
     "output_type": "stream",
     "text": [
      "runs/detect/exp6\n"
     ]
    }
   ],
   "execution_count": 75
  },
  {
   "metadata": {
    "ExecuteTime": {
     "end_time": "2024-05-20T11:55:30.968585Z",
     "start_time": "2024-05-20T11:55:30.960579Z"
    }
   },
   "cell_type": "code",
   "source": [
    "# remove directory images = 'images/example.mp4' with ''\n",
    "\n",
    "cropped_image = image.replace('images/', '')\n",
    "# if image  == mp4, change to jpg\n",
    "if image.endswith('.mp4'):\n",
    "    image = image.replace('.mp4', '.jpg')"
   ],
   "id": "32d3156c8ed3902",
   "outputs": [],
   "execution_count": 76
  },
  {
   "metadata": {
    "ExecuteTime": {
     "end_time": "2024-05-20T11:55:32.765493Z",
     "start_time": "2024-05-20T11:55:31.311167Z"
    }
   },
   "cell_type": "code",
   "source": [
    "reader = easyocr.Reader(['en'])\n",
    "\n",
    "result = reader.readtextresult = reader.readtext(f'{latest_exp_dir}/crops/{cropped_image}')\n",
    "\n",
    "## Only use results with more that 70% confidence\n",
    "result = [(bbox, text, prob) for (bbox, text, prob) in result if prob > 0.1]\n",
    "\n",
    "for(bbox, text, prob) in result:\n",
    "    print(f'Detected Text: {text} With probability: {prob}')"
   ],
   "id": "c3035b0e6fe08062",
   "outputs": [
    {
     "name": "stderr",
     "output_type": "stream",
     "text": [
      "Neither CUDA nor MPS are available - defaulting to CPU. Note: This module is much faster with a GPU.\n"
     ]
    },
    {
     "name": "stdout",
     "output_type": "stream",
     "text": [
      "Detected Text: Ax69 120 With probability: 0.6041402953112742\n"
     ]
    }
   ],
   "execution_count": 77
  },
  {
   "metadata": {},
   "cell_type": "code",
   "outputs": [],
   "execution_count": null,
   "source": "",
   "id": "14a979b5cea32e97"
  }
 ],
 "metadata": {
  "kernelspec": {
   "display_name": "Python 3",
   "language": "python",
   "name": "python3"
  },
  "language_info": {
   "codemirror_mode": {
    "name": "ipython",
    "version": 2
   },
   "file_extension": ".py",
   "mimetype": "text/x-python",
   "name": "python",
   "nbconvert_exporter": "python",
   "pygments_lexer": "ipython2",
   "version": "2.7.6"
  }
 },
 "nbformat": 4,
 "nbformat_minor": 5
}
