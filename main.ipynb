{
 "cells": [
  {
   "metadata": {
    "ExecuteTime": {
     "end_time": "2024-05-21T08:05:40.935538Z",
     "start_time": "2024-05-21T08:05:38.832427Z"
    }
   },
   "cell_type": "code",
   "source": "!python -m pip install --upgrade pip",
   "id": "c774177dbaac844a",
   "outputs": [
    {
     "name": "stdout",
     "output_type": "stream",
     "text": [
      "Requirement already satisfied: pip in c:\\users\\user\\github\\yolov9_easyocr_licence_plate_detection\\.venv\\lib\\site-packages (24.0)\n"
     ]
    },
    {
     "name": "stderr",
     "output_type": "stream",
     "text": [
      "WARNING: Ignoring invalid distribution -pencv-python-headless (c:\\users\\user\\github\\yolov9_easyocr_licence_plate_detection\\.venv\\lib\\site-packages)\n",
      "WARNING: Ignoring invalid distribution -pencv-python-headless (c:\\users\\user\\github\\yolov9_easyocr_licence_plate_detection\\.venv\\lib\\site-packages)\n"
     ]
    }
   ],
   "execution_count": 1
  },
  {
   "metadata": {
    "ExecuteTime": {
     "end_time": "2024-05-21T08:05:47.572098Z",
     "start_time": "2024-05-21T08:05:45.471720Z"
    }
   },
   "cell_type": "code",
   "source": "!pip install -r requirements.txt",
   "id": "d372190ac5818ccc",
   "outputs": [
    {
     "name": "stdout",
     "output_type": "stream",
     "text": [
      "Requirement already satisfied: easyocr in c:\\users\\user\\github\\yolov9_easyocr_licence_plate_detection\\.venv\\lib\\site-packages (from -r requirements.txt (line 5)) (1.7.1)\n",
      "Requirement already satisfied: yolov9 in c:\\users\\user\\github\\yolov9_easyocr_licence_plate_detection\\.venv\\lib\\site-packages (from -r requirements.txt (line 6)) (0.0.1)\n",
      "Requirement already satisfied: omegaconf in c:\\users\\user\\github\\yolov9_easyocr_licence_plate_detection\\.venv\\lib\\site-packages (from -r requirements.txt (line 7)) (2.3.0)\n",
      "Requirement already satisfied: gitpython in c:\\users\\user\\github\\yolov9_easyocr_licence_plate_detection\\.venv\\lib\\site-packages (from -r requirements.txt (line 8)) (3.1.43)\n",
      "Requirement already satisfied: ipython in c:\\users\\user\\github\\yolov9_easyocr_licence_plate_detection\\.venv\\lib\\site-packages (from -r requirements.txt (line 9)) (8.24.0)\n",
      "Requirement already satisfied: matplotlib>=3.2.2 in c:\\users\\user\\github\\yolov9_easyocr_licence_plate_detection\\.venv\\lib\\site-packages (from -r requirements.txt (line 10)) (3.9.0)\n",
      "Requirement already satisfied: numpy>=1.18.5 in c:\\users\\user\\github\\yolov9_easyocr_licence_plate_detection\\.venv\\lib\\site-packages (from -r requirements.txt (line 11)) (1.26.4)\n",
      "Requirement already satisfied: opencv-python>=4.1.1 in c:\\users\\user\\github\\yolov9_easyocr_licence_plate_detection\\.venv\\lib\\site-packages (from -r requirements.txt (line 12)) (4.8.1.78)\n",
      "Requirement already satisfied: Pillow>=7.1.2 in c:\\users\\user\\github\\yolov9_easyocr_licence_plate_detection\\.venv\\lib\\site-packages (from -r requirements.txt (line 13)) (10.3.0)\n",
      "Requirement already satisfied: psutil in c:\\users\\user\\github\\yolov9_easyocr_licence_plate_detection\\.venv\\lib\\site-packages (from -r requirements.txt (line 14)) (5.9.8)\n",
      "Requirement already satisfied: PyYAML>=5.3.1 in c:\\users\\user\\github\\yolov9_easyocr_licence_plate_detection\\.venv\\lib\\site-packages (from -r requirements.txt (line 15)) (6.0.1)\n",
      "Requirement already satisfied: requests>=2.23.0 in c:\\users\\user\\github\\yolov9_easyocr_licence_plate_detection\\.venv\\lib\\site-packages (from -r requirements.txt (line 16)) (2.31.0)\n",
      "Requirement already satisfied: scipy>=1.4.1 in c:\\users\\user\\github\\yolov9_easyocr_licence_plate_detection\\.venv\\lib\\site-packages (from -r requirements.txt (line 17)) (1.13.0)\n",
      "Requirement already satisfied: thop>=0.1.1 in c:\\users\\user\\github\\yolov9_easyocr_licence_plate_detection\\.venv\\lib\\site-packages (from -r requirements.txt (line 18)) (0.1.1.post2209072238)\n",
      "Requirement already satisfied: torch>=1.7.0 in c:\\users\\user\\github\\yolov9_easyocr_licence_plate_detection\\.venv\\lib\\site-packages (from -r requirements.txt (line 19)) (2.3.0)\n",
      "Requirement already satisfied: torchvision>=0.8.1 in c:\\users\\user\\github\\yolov9_easyocr_licence_plate_detection\\.venv\\lib\\site-packages (from -r requirements.txt (line 20)) (0.18.0)\n",
      "Requirement already satisfied: tqdm>=4.64.0 in c:\\users\\user\\github\\yolov9_easyocr_licence_plate_detection\\.venv\\lib\\site-packages (from -r requirements.txt (line 21)) (4.66.4)\n",
      "Requirement already satisfied: tensorboard>=2.4.1 in c:\\users\\user\\github\\yolov9_easyocr_licence_plate_detection\\.venv\\lib\\site-packages (from -r requirements.txt (line 25)) (2.16.2)\n",
      "Requirement already satisfied: pandas>=1.1.4 in c:\\users\\user\\github\\yolov9_easyocr_licence_plate_detection\\.venv\\lib\\site-packages (from -r requirements.txt (line 30)) (2.2.2)\n",
      "Requirement already satisfied: seaborn>=0.11.0 in c:\\users\\user\\github\\yolov9_easyocr_licence_plate_detection\\.venv\\lib\\site-packages (from -r requirements.txt (line 31)) (0.13.2)\n",
      "Requirement already satisfied: albumentations>=1.0.3 in c:\\users\\user\\github\\yolov9_easyocr_licence_plate_detection\\.venv\\lib\\site-packages (from -r requirements.txt (line 49)) (1.4.7)\n",
      "Requirement already satisfied: pycocotools>=2.0 in c:\\users\\user\\github\\yolov9_easyocr_licence_plate_detection\\.venv\\lib\\site-packages (from -r requirements.txt (line 50)) (2.0.7)\n",
      "Requirement already satisfied: opencv-python-headless in c:\\users\\user\\github\\yolov9_easyocr_licence_plate_detection\\.venv\\lib\\site-packages (from easyocr->-r requirements.txt (line 5)) (4.9.0.80)\n",
      "Requirement already satisfied: scikit-image in c:\\users\\user\\github\\yolov9_easyocr_licence_plate_detection\\.venv\\lib\\site-packages (from easyocr->-r requirements.txt (line 5)) (0.23.2)\n",
      "Requirement already satisfied: python-bidi in c:\\users\\user\\github\\yolov9_easyocr_licence_plate_detection\\.venv\\lib\\site-packages (from easyocr->-r requirements.txt (line 5)) (0.4.2)\n",
      "Requirement already satisfied: Shapely in c:\\users\\user\\github\\yolov9_easyocr_licence_plate_detection\\.venv\\lib\\site-packages (from easyocr->-r requirements.txt (line 5)) (2.0.4)\n",
      "Requirement already satisfied: pyclipper in c:\\users\\user\\github\\yolov9_easyocr_licence_plate_detection\\.venv\\lib\\site-packages (from easyocr->-r requirements.txt (line 5)) (1.3.0.post5)\n",
      "Requirement already satisfied: ninja in c:\\users\\user\\github\\yolov9_easyocr_licence_plate_detection\\.venv\\lib\\site-packages (from easyocr->-r requirements.txt (line 5)) (1.11.1.1)\n",
      "Requirement already satisfied: yolov5 in c:\\users\\user\\github\\yolov9_easyocr_licence_plate_detection\\.venv\\lib\\site-packages (from yolov9->-r requirements.txt (line 6)) (7.0.13)\n",
      "Requirement already satisfied: antlr4-python3-runtime==4.9.* in c:\\users\\user\\github\\yolov9_easyocr_licence_plate_detection\\.venv\\lib\\site-packages (from omegaconf->-r requirements.txt (line 7)) (4.9.3)\n",
      "Requirement already satisfied: gitdb<5,>=4.0.1 in c:\\users\\user\\github\\yolov9_easyocr_licence_plate_detection\\.venv\\lib\\site-packages (from gitpython->-r requirements.txt (line 8)) (4.0.11)\n",
      "Requirement already satisfied: decorator in c:\\users\\user\\github\\yolov9_easyocr_licence_plate_detection\\.venv\\lib\\site-packages (from ipython->-r requirements.txt (line 9)) (5.1.1)\n",
      "Requirement already satisfied: jedi>=0.16 in c:\\users\\user\\github\\yolov9_easyocr_licence_plate_detection\\.venv\\lib\\site-packages (from ipython->-r requirements.txt (line 9)) (0.19.1)\n",
      "Requirement already satisfied: matplotlib-inline in c:\\users\\user\\github\\yolov9_easyocr_licence_plate_detection\\.venv\\lib\\site-packages (from ipython->-r requirements.txt (line 9)) (0.1.7)\n",
      "Requirement already satisfied: prompt-toolkit<3.1.0,>=3.0.41 in c:\\users\\user\\github\\yolov9_easyocr_licence_plate_detection\\.venv\\lib\\site-packages (from ipython->-r requirements.txt (line 9)) (3.0.43)\n",
      "Requirement already satisfied: pygments>=2.4.0 in c:\\users\\user\\github\\yolov9_easyocr_licence_plate_detection\\.venv\\lib\\site-packages (from ipython->-r requirements.txt (line 9)) (2.18.0)\n",
      "Requirement already satisfied: stack-data in c:\\users\\user\\github\\yolov9_easyocr_licence_plate_detection\\.venv\\lib\\site-packages (from ipython->-r requirements.txt (line 9)) (0.6.3)\n",
      "Requirement already satisfied: traitlets>=5.13.0 in c:\\users\\user\\github\\yolov9_easyocr_licence_plate_detection\\.venv\\lib\\site-packages (from ipython->-r requirements.txt (line 9)) (5.14.3)\n",
      "Requirement already satisfied: exceptiongroup in c:\\users\\user\\github\\yolov9_easyocr_licence_plate_detection\\.venv\\lib\\site-packages (from ipython->-r requirements.txt (line 9)) (1.2.1)\n",
      "Requirement already satisfied: typing-extensions>=4.6 in c:\\users\\user\\github\\yolov9_easyocr_licence_plate_detection\\.venv\\lib\\site-packages (from ipython->-r requirements.txt (line 9)) (4.11.0)\n",
      "Requirement already satisfied: colorama in c:\\users\\user\\github\\yolov9_easyocr_licence_plate_detection\\.venv\\lib\\site-packages (from ipython->-r requirements.txt (line 9)) (0.4.6)\n",
      "Requirement already satisfied: contourpy>=1.0.1 in c:\\users\\user\\github\\yolov9_easyocr_licence_plate_detection\\.venv\\lib\\site-packages (from matplotlib>=3.2.2->-r requirements.txt (line 10)) (1.2.1)\n",
      "Requirement already satisfied: cycler>=0.10 in c:\\users\\user\\github\\yolov9_easyocr_licence_plate_detection\\.venv\\lib\\site-packages (from matplotlib>=3.2.2->-r requirements.txt (line 10)) (0.10.0)\n",
      "Requirement already satisfied: fonttools>=4.22.0 in c:\\users\\user\\github\\yolov9_easyocr_licence_plate_detection\\.venv\\lib\\site-packages (from matplotlib>=3.2.2->-r requirements.txt (line 10)) (4.51.0)\n",
      "Requirement already satisfied: kiwisolver>=1.3.1 in c:\\users\\user\\github\\yolov9_easyocr_licence_plate_detection\\.venv\\lib\\site-packages (from matplotlib>=3.2.2->-r requirements.txt (line 10)) (1.4.5)\n",
      "Requirement already satisfied: packaging>=20.0 in c:\\users\\user\\github\\yolov9_easyocr_licence_plate_detection\\.venv\\lib\\site-packages (from matplotlib>=3.2.2->-r requirements.txt (line 10)) (24.0)\n",
      "Requirement already satisfied: pyparsing>=2.3.1 in c:\\users\\user\\github\\yolov9_easyocr_licence_plate_detection\\.venv\\lib\\site-packages (from matplotlib>=3.2.2->-r requirements.txt (line 10)) (2.4.7)\n",
      "Requirement already satisfied: python-dateutil>=2.7 in c:\\users\\user\\github\\yolov9_easyocr_licence_plate_detection\\.venv\\lib\\site-packages (from matplotlib>=3.2.2->-r requirements.txt (line 10)) (2.9.0.post0)\n",
      "Requirement already satisfied: charset-normalizer<4,>=2 in c:\\users\\user\\github\\yolov9_easyocr_licence_plate_detection\\.venv\\lib\\site-packages (from requests>=2.23.0->-r requirements.txt (line 16)) (3.3.2)\n",
      "Requirement already satisfied: idna<4,>=2.5 in c:\\users\\user\\github\\yolov9_easyocr_licence_plate_detection\\.venv\\lib\\site-packages (from requests>=2.23.0->-r requirements.txt (line 16)) (2.10)\n",
      "Requirement already satisfied: urllib3<3,>=1.21.1 in c:\\users\\user\\github\\yolov9_easyocr_licence_plate_detection\\.venv\\lib\\site-packages (from requests>=2.23.0->-r requirements.txt (line 16)) (2.2.1)\n",
      "Requirement already satisfied: certifi>=2017.4.17 in c:\\users\\user\\github\\yolov9_easyocr_licence_plate_detection\\.venv\\lib\\site-packages (from requests>=2.23.0->-r requirements.txt (line 16)) (2022.12.7)\n",
      "Requirement already satisfied: filelock in c:\\users\\user\\github\\yolov9_easyocr_licence_plate_detection\\.venv\\lib\\site-packages (from torch>=1.7.0->-r requirements.txt (line 19)) (3.14.0)\n",
      "Requirement already satisfied: sympy in c:\\users\\user\\github\\yolov9_easyocr_licence_plate_detection\\.venv\\lib\\site-packages (from torch>=1.7.0->-r requirements.txt (line 19)) (1.12)\n",
      "Requirement already satisfied: networkx in c:\\users\\user\\github\\yolov9_easyocr_licence_plate_detection\\.venv\\lib\\site-packages (from torch>=1.7.0->-r requirements.txt (line 19)) (3.3)\n",
      "Requirement already satisfied: jinja2 in c:\\users\\user\\github\\yolov9_easyocr_licence_plate_detection\\.venv\\lib\\site-packages (from torch>=1.7.0->-r requirements.txt (line 19)) (3.1.4)\n",
      "Requirement already satisfied: fsspec in c:\\users\\user\\github\\yolov9_easyocr_licence_plate_detection\\.venv\\lib\\site-packages (from torch>=1.7.0->-r requirements.txt (line 19)) (2024.5.0)\n",
      "Requirement already satisfied: mkl<=2021.4.0,>=2021.1.1 in c:\\users\\user\\github\\yolov9_easyocr_licence_plate_detection\\.venv\\lib\\site-packages (from torch>=1.7.0->-r requirements.txt (line 19)) (2021.4.0)\n",
      "Requirement already satisfied: absl-py>=0.4 in c:\\users\\user\\github\\yolov9_easyocr_licence_plate_detection\\.venv\\lib\\site-packages (from tensorboard>=2.4.1->-r requirements.txt (line 25)) (2.1.0)\n",
      "Requirement already satisfied: grpcio>=1.48.2 in c:\\users\\user\\github\\yolov9_easyocr_licence_plate_detection\\.venv\\lib\\site-packages (from tensorboard>=2.4.1->-r requirements.txt (line 25)) (1.63.0)\n",
      "Requirement already satisfied: markdown>=2.6.8 in c:\\users\\user\\github\\yolov9_easyocr_licence_plate_detection\\.venv\\lib\\site-packages (from tensorboard>=2.4.1->-r requirements.txt (line 25)) (3.6)\n",
      "Requirement already satisfied: protobuf!=4.24.0,>=3.19.6 in c:\\users\\user\\github\\yolov9_easyocr_licence_plate_detection\\.venv\\lib\\site-packages (from tensorboard>=2.4.1->-r requirements.txt (line 25)) (5.26.1)\n",
      "Requirement already satisfied: setuptools>=41.0.0 in c:\\users\\user\\github\\yolov9_easyocr_licence_plate_detection\\.venv\\lib\\site-packages (from tensorboard>=2.4.1->-r requirements.txt (line 25)) (68.2.0)\n",
      "Requirement already satisfied: six>1.9 in c:\\users\\user\\github\\yolov9_easyocr_licence_plate_detection\\.venv\\lib\\site-packages (from tensorboard>=2.4.1->-r requirements.txt (line 25)) (1.16.0)\n",
      "Requirement already satisfied: tensorboard-data-server<0.8.0,>=0.7.0 in c:\\users\\user\\github\\yolov9_easyocr_licence_plate_detection\\.venv\\lib\\site-packages (from tensorboard>=2.4.1->-r requirements.txt (line 25)) (0.7.2)\n",
      "Requirement already satisfied: werkzeug>=1.0.1 in c:\\users\\user\\github\\yolov9_easyocr_licence_plate_detection\\.venv\\lib\\site-packages (from tensorboard>=2.4.1->-r requirements.txt (line 25)) (3.0.3)\n",
      "Requirement already satisfied: pytz>=2020.1 in c:\\users\\user\\github\\yolov9_easyocr_licence_plate_detection\\.venv\\lib\\site-packages (from pandas>=1.1.4->-r requirements.txt (line 30)) (2024.1)\n",
      "Requirement already satisfied: tzdata>=2022.7 in c:\\users\\user\\github\\yolov9_easyocr_licence_plate_detection\\.venv\\lib\\site-packages (from pandas>=1.1.4->-r requirements.txt (line 30)) (2024.1)\n",
      "Requirement already satisfied: scikit-learn>=1.3.2 in c:\\users\\user\\github\\yolov9_easyocr_licence_plate_detection\\.venv\\lib\\site-packages (from albumentations>=1.0.3->-r requirements.txt (line 49)) (1.4.2)\n",
      "Requirement already satisfied: pydantic>=2.7.0 in c:\\users\\user\\github\\yolov9_easyocr_licence_plate_detection\\.venv\\lib\\site-packages (from albumentations>=1.0.3->-r requirements.txt (line 49)) (2.7.1)\n",
      "Requirement already satisfied: smmap<6,>=3.0.1 in c:\\users\\user\\github\\yolov9_easyocr_licence_plate_detection\\.venv\\lib\\site-packages (from gitdb<5,>=4.0.1->gitpython->-r requirements.txt (line 8)) (5.0.1)\n",
      "Requirement already satisfied: parso<0.9.0,>=0.8.3 in c:\\users\\user\\github\\yolov9_easyocr_licence_plate_detection\\.venv\\lib\\site-packages (from jedi>=0.16->ipython->-r requirements.txt (line 9)) (0.8.4)\n",
      "Requirement already satisfied: intel-openmp==2021.* in c:\\users\\user\\github\\yolov9_easyocr_licence_plate_detection\\.venv\\lib\\site-packages (from mkl<=2021.4.0,>=2021.1.1->torch>=1.7.0->-r requirements.txt (line 19)) (2021.4.0)\n",
      "Requirement already satisfied: tbb==2021.* in c:\\users\\user\\github\\yolov9_easyocr_licence_plate_detection\\.venv\\lib\\site-packages (from mkl<=2021.4.0,>=2021.1.1->torch>=1.7.0->-r requirements.txt (line 19)) (2021.12.0)\n",
      "Requirement already satisfied: wcwidth in c:\\users\\user\\github\\yolov9_easyocr_licence_plate_detection\\.venv\\lib\\site-packages (from prompt-toolkit<3.1.0,>=3.0.41->ipython->-r requirements.txt (line 9)) (0.2.13)\n",
      "Requirement already satisfied: annotated-types>=0.4.0 in c:\\users\\user\\github\\yolov9_easyocr_licence_plate_detection\\.venv\\lib\\site-packages (from pydantic>=2.7.0->albumentations>=1.0.3->-r requirements.txt (line 49)) (0.6.0)\n",
      "Requirement already satisfied: pydantic-core==2.18.2 in c:\\users\\user\\github\\yolov9_easyocr_licence_plate_detection\\.venv\\lib\\site-packages (from pydantic>=2.7.0->albumentations>=1.0.3->-r requirements.txt (line 49)) (2.18.2)\n",
      "Requirement already satisfied: imageio>=2.33 in c:\\users\\user\\github\\yolov9_easyocr_licence_plate_detection\\.venv\\lib\\site-packages (from scikit-image->easyocr->-r requirements.txt (line 5)) (2.34.1)\n",
      "Requirement already satisfied: tifffile>=2022.8.12 in c:\\users\\user\\github\\yolov9_easyocr_licence_plate_detection\\.venv\\lib\\site-packages (from scikit-image->easyocr->-r requirements.txt (line 5)) (2024.5.10)\n",
      "Requirement already satisfied: lazy-loader>=0.4 in c:\\users\\user\\github\\yolov9_easyocr_licence_plate_detection\\.venv\\lib\\site-packages (from scikit-image->easyocr->-r requirements.txt (line 5)) (0.4)\n",
      "Requirement already satisfied: joblib>=1.2.0 in c:\\users\\user\\github\\yolov9_easyocr_licence_plate_detection\\.venv\\lib\\site-packages (from scikit-learn>=1.3.2->albumentations>=1.0.3->-r requirements.txt (line 49)) (1.4.2)\n",
      "Requirement already satisfied: threadpoolctl>=2.0.0 in c:\\users\\user\\github\\yolov9_easyocr_licence_plate_detection\\.venv\\lib\\site-packages (from scikit-learn>=1.3.2->albumentations>=1.0.3->-r requirements.txt (line 49)) (3.5.0)\n",
      "Requirement already satisfied: MarkupSafe>=2.1.1 in c:\\users\\user\\github\\yolov9_easyocr_licence_plate_detection\\.venv\\lib\\site-packages (from werkzeug>=1.0.1->tensorboard>=2.4.1->-r requirements.txt (line 25)) (2.1.5)\n",
      "Requirement already satisfied: executing>=1.2.0 in c:\\users\\user\\github\\yolov9_easyocr_licence_plate_detection\\.venv\\lib\\site-packages (from stack-data->ipython->-r requirements.txt (line 9)) (2.0.1)\n",
      "Requirement already satisfied: asttokens>=2.1.0 in c:\\users\\user\\github\\yolov9_easyocr_licence_plate_detection\\.venv\\lib\\site-packages (from stack-data->ipython->-r requirements.txt (line 9)) (2.4.1)\n",
      "Requirement already satisfied: pure-eval in c:\\users\\user\\github\\yolov9_easyocr_licence_plate_detection\\.venv\\lib\\site-packages (from stack-data->ipython->-r requirements.txt (line 9)) (0.2.2)\n",
      "Requirement already satisfied: mpmath>=0.19 in c:\\users\\user\\github\\yolov9_easyocr_licence_plate_detection\\.venv\\lib\\site-packages (from sympy->torch>=1.7.0->-r requirements.txt (line 19)) (1.3.0)\n",
      "Requirement already satisfied: ultralytics>=8.0.100 in c:\\users\\user\\github\\yolov9_easyocr_licence_plate_detection\\.venv\\lib\\site-packages (from yolov5->yolov9->-r requirements.txt (line 6)) (8.2.18)\n",
      "Requirement already satisfied: fire in c:\\users\\user\\github\\yolov9_easyocr_licence_plate_detection\\.venv\\lib\\site-packages (from yolov5->yolov9->-r requirements.txt (line 6)) (0.6.0)\n",
      "Requirement already satisfied: boto3>=1.19.1 in c:\\users\\user\\github\\yolov9_easyocr_licence_plate_detection\\.venv\\lib\\site-packages (from yolov5->yolov9->-r requirements.txt (line 6)) (1.34.108)\n",
      "Requirement already satisfied: sahi>=0.11.10 in c:\\users\\user\\github\\yolov9_easyocr_licence_plate_detection\\.venv\\lib\\site-packages (from yolov5->yolov9->-r requirements.txt (line 6)) (0.11.16)\n",
      "Requirement already satisfied: huggingface-hub>=0.12.0 in c:\\users\\user\\github\\yolov9_easyocr_licence_plate_detection\\.venv\\lib\\site-packages (from yolov5->yolov9->-r requirements.txt (line 6)) (0.23.0)\n",
      "Requirement already satisfied: roboflow>=0.2.29 in c:\\users\\user\\github\\yolov9_easyocr_licence_plate_detection\\.venv\\lib\\site-packages (from yolov5->yolov9->-r requirements.txt (line 6)) (1.1.4)\n",
      "Requirement already satisfied: botocore<1.35.0,>=1.34.108 in c:\\users\\user\\github\\yolov9_easyocr_licence_plate_detection\\.venv\\lib\\site-packages (from boto3>=1.19.1->yolov5->yolov9->-r requirements.txt (line 6)) (1.34.108)\n",
      "Requirement already satisfied: jmespath<2.0.0,>=0.7.1 in c:\\users\\user\\github\\yolov9_easyocr_licence_plate_detection\\.venv\\lib\\site-packages (from boto3>=1.19.1->yolov5->yolov9->-r requirements.txt (line 6)) (1.0.1)\n",
      "Requirement already satisfied: s3transfer<0.11.0,>=0.10.0 in c:\\users\\user\\github\\yolov9_easyocr_licence_plate_detection\\.venv\\lib\\site-packages (from boto3>=1.19.1->yolov5->yolov9->-r requirements.txt (line 6)) (0.10.1)\n",
      "Requirement already satisfied: chardet==4.0.0 in c:\\users\\user\\github\\yolov9_easyocr_licence_plate_detection\\.venv\\lib\\site-packages (from roboflow>=0.2.29->yolov5->yolov9->-r requirements.txt (line 6)) (4.0.0)\n",
      "Requirement already satisfied: python-dotenv in c:\\users\\user\\github\\yolov9_easyocr_licence_plate_detection\\.venv\\lib\\site-packages (from roboflow>=0.2.29->yolov5->yolov9->-r requirements.txt (line 6)) (1.0.1)\n",
      "Requirement already satisfied: supervision in c:\\users\\user\\github\\yolov9_easyocr_licence_plate_detection\\.venv\\lib\\site-packages (from roboflow>=0.2.29->yolov5->yolov9->-r requirements.txt (line 6)) (0.20.0)\n",
      "Requirement already satisfied: wget in c:\\users\\user\\github\\yolov9_easyocr_licence_plate_detection\\.venv\\lib\\site-packages (from roboflow>=0.2.29->yolov5->yolov9->-r requirements.txt (line 6)) (3.2)\n",
      "Requirement already satisfied: requests-toolbelt in c:\\users\\user\\github\\yolov9_easyocr_licence_plate_detection\\.venv\\lib\\site-packages (from roboflow>=0.2.29->yolov5->yolov9->-r requirements.txt (line 6)) (1.0.0)\n",
      "Requirement already satisfied: pybboxes==0.1.6 in c:\\users\\user\\github\\yolov9_easyocr_licence_plate_detection\\.venv\\lib\\site-packages (from sahi>=0.11.10->yolov5->yolov9->-r requirements.txt (line 6)) (0.1.6)\n",
      "Requirement already satisfied: terminaltables in c:\\users\\user\\github\\yolov9_easyocr_licence_plate_detection\\.venv\\lib\\site-packages (from sahi>=0.11.10->yolov5->yolov9->-r requirements.txt (line 6)) (3.1.10)\n",
      "Requirement already satisfied: click in c:\\users\\user\\github\\yolov9_easyocr_licence_plate_detection\\.venv\\lib\\site-packages (from sahi>=0.11.10->yolov5->yolov9->-r requirements.txt (line 6)) (8.1.7)\n",
      "Requirement already satisfied: py-cpuinfo in c:\\users\\user\\github\\yolov9_easyocr_licence_plate_detection\\.venv\\lib\\site-packages (from ultralytics>=8.0.100->yolov5->yolov9->-r requirements.txt (line 6)) (9.0.0)\n",
      "Requirement already satisfied: termcolor in c:\\users\\user\\github\\yolov9_easyocr_licence_plate_detection\\.venv\\lib\\site-packages (from fire->yolov5->yolov9->-r requirements.txt (line 6)) (2.4.0)\n",
      "Requirement already satisfied: defusedxml<0.8.0,>=0.7.1 in c:\\users\\user\\github\\yolov9_easyocr_licence_plate_detection\\.venv\\lib\\site-packages (from supervision->roboflow>=0.2.29->yolov5->yolov9->-r requirements.txt (line 6)) (0.7.1)\n"
     ]
    },
    {
     "name": "stderr",
     "output_type": "stream",
     "text": [
      "WARNING: Ignoring invalid distribution -pencv-python-headless (c:\\users\\user\\github\\yolov9_easyocr_licence_plate_detection\\.venv\\lib\\site-packages)\n",
      "WARNING: Ignoring invalid distribution -pencv-python-headless (c:\\users\\user\\github\\yolov9_easyocr_licence_plate_detection\\.venv\\lib\\site-packages)\n"
     ]
    }
   ],
   "execution_count": 2
  },
  {
   "cell_type": "code",
   "id": "initial_id",
   "metadata": {
    "collapsed": true,
    "ExecuteTime": {
     "end_time": "2024-05-21T08:05:54.968552Z",
     "start_time": "2024-05-21T08:05:50.667890Z"
    }
   },
   "source": [
    "import easyocr\n",
    "import yolov9\n",
    "\n"
   ],
   "outputs": [],
   "execution_count": 3
  },
  {
   "metadata": {
    "ExecuteTime": {
     "end_time": "2024-05-21T08:05:55.775737Z",
     "start_time": "2024-05-21T08:05:55.763726Z"
    }
   },
   "cell_type": "code",
   "source": "image = 'images/sample3.jpg'",
   "id": "e2c2751cbafd7eb4",
   "outputs": [],
   "execution_count": 4
  },
  {
   "metadata": {
    "ExecuteTime": {
     "end_time": "2024-05-21T08:05:57.765896Z",
     "start_time": "2024-05-21T08:05:57.754885Z"
    }
   },
   "cell_type": "code",
   "source": [
    "# Predict with yolov9 with webcam\n",
    "#!python detect.py --weights weights/best.pt --source 0 --device cpu --save-txt --save-crop"
   ],
   "id": "dfad55f0423a7676",
   "outputs": [],
   "execution_count": 5
  },
  {
   "metadata": {
    "ExecuteTime": {
     "end_time": "2024-05-21T08:50:17.316464Z",
     "start_time": "2024-05-21T08:50:10.981835Z"
    }
   },
   "cell_type": "code",
   "source": [
    "# Predict with yolov9 with our weights and save bounding box for later use\n",
    "# Make dynamic jpg loader\n",
    "!python detect.py --weights weights/best.pt --source {image} --device cpu --save-txt --save-crop"
   ],
   "id": "b3c9614cb23e3ec8",
   "outputs": [
    {
     "name": "stdout",
     "output_type": "stream",
     "text": [
      "Model summary (fused): 168 layers, 3005843 parameters, 0 gradients, 8.1 GFLOPs\n"
     ]
    },
    {
     "name": "stderr",
     "output_type": "stream",
     "text": [
      "Neither CUDA nor MPS are available - defaulting to CPU. Note: This module is much faster with a GPU.\n",
      "YOLOv5  d514f46 Python-3.10.9 torch-2.3.0+cpu CPU\n",
      "\n"
     ]
    }
   ],
   "execution_count": 21
  },
  {
   "metadata": {
    "ExecuteTime": {
     "end_time": "2024-05-20T11:55:30.448726Z",
     "start_time": "2024-05-20T11:55:30.439718Z"
    }
   },
   "cell_type": "code",
   "source": [
    "import os\n",
    "import glob\n",
    "\n",
    "# Get a list of all directories that start with 'exp'\n",
    "exp_dirs = glob.glob('runs/detect/exp*')\n",
    "\n",
    "# Remove the 'runs/detect/exp' part and convert to int\n",
    "exp_nums = [int(dir.split('exp')[-1]) for dir in exp_dirs if dir.split('exp')[-1].isnumeric()]\n",
    "\n",
    "# Get the directory with the highest number\n",
    "latest_exp_dir = 'runs/detect/exp' + str(max(exp_nums))\n",
    "\n",
    "print(latest_exp_dir)  # prints the latest 'exp' directory"
   ],
   "id": "9e0934ab337cc3e7",
   "outputs": [
    {
     "name": "stdout",
     "output_type": "stream",
     "text": [
      "runs/detect/exp6\n"
     ]
    }
   ],
   "execution_count": 75
  },
  {
   "metadata": {
    "ExecuteTime": {
     "end_time": "2024-05-20T11:55:30.968585Z",
     "start_time": "2024-05-20T11:55:30.960579Z"
    }
   },
   "cell_type": "code",
   "source": [
    "# remove directory images = 'images/example.mp4' with ''\n",
    "\n",
    "cropped_image = image.replace('images/', '')\n",
    "# if image  == mp4, change to jpg\n",
    "if image.endswith('.mp4'):\n",
    "    image = image.replace('.mp4', '.jpg')"
   ],
   "id": "32d3156c8ed3902",
   "outputs": [],
   "execution_count": 76
  },
  {
   "metadata": {
    "ExecuteTime": {
     "end_time": "2024-05-20T11:55:32.765493Z",
     "start_time": "2024-05-20T11:55:31.311167Z"
    }
   },
   "cell_type": "code",
   "source": [
    "reader = easyocr.Reader(['en'])\n",
    "\n",
    "result = reader.readtextresult = reader.readtext(f'{latest_exp_dir}/crops/{cropped_image}')\n",
    "\n",
    "## Only use results with more that 70% confidence\n",
    "result = [(bbox, text, prob) for (bbox, text, prob) in result if prob > 0.1]\n",
    "\n",
    "for(bbox, text, prob) in result:\n",
    "    print(f'Detected Text: {text} With probability: {prob}')"
   ],
   "id": "c3035b0e6fe08062",
   "outputs": [
    {
     "name": "stderr",
     "output_type": "stream",
     "text": [
      "Neither CUDA nor MPS are available - defaulting to CPU. Note: This module is much faster with a GPU.\n"
     ]
    },
    {
     "name": "stdout",
     "output_type": "stream",
     "text": [
      "Detected Text: Ax69 120 With probability: 0.6041402953112742\n"
     ]
    }
   ],
   "execution_count": 77
  },
  {
   "metadata": {},
   "cell_type": "code",
   "outputs": [],
   "execution_count": null,
   "source": "",
   "id": "14a979b5cea32e97"
  }
 ],
 "metadata": {
  "kernelspec": {
   "display_name": "Python 3",
   "language": "python",
   "name": "python3"
  },
  "language_info": {
   "codemirror_mode": {
    "name": "ipython",
    "version": 2
   },
   "file_extension": ".py",
   "mimetype": "text/x-python",
   "name": "python",
   "nbconvert_exporter": "python",
   "pygments_lexer": "ipython2",
   "version": "2.7.6"
  }
 },
 "nbformat": 4,
 "nbformat_minor": 5
}
